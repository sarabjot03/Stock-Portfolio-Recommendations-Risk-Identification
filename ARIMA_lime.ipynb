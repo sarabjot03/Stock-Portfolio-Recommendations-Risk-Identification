{
 "cells": [
  {
   "cell_type": "code",
   "execution_count": null,
   "id": "369509d0",
   "metadata": {},
   "outputs": [],
   "source": [
    "import lime\n",
    "from lime.lime_tabular import LimeTabularExplainer\n",
    "import numpy as np\n",
    "import pandas as pd\n",
    "\n",
    "# Assuming your test data is ready and you have a fitted ARIMA model (arima_fit) as per your code\n",
    "\n",
    "# Define a function that generates the predictions for LIME's surrogate model\n",
    "def arima_predict(input_data):\n",
    "    # Forecast for the number of steps in input_data\n",
    "    forecast_steps = len(input_data)\n",
    "    forecast = arima_fit.forecast(steps=forecast_steps)\n",
    "    return np.array(forecast).reshape(-1, 1)\n",
    "\n",
    "# Prepare the data for LIME\n",
    "# We need to use the RSI data as input for explanation\n",
    "# For example, using the last few rows of your test data for prediction\n",
    "test_data = test[['RSI']]  # Select RSI column for testing\n",
    "X_test = test_data.values.reshape(-1, 1)  # Reshape to match LIME input format\n",
    "\n",
    "# Create a LimeTabularExplainer instance\n",
    "explainer = LimeTabularExplainer(\n",
    "    training_data=X_test,\n",
    "    mode=\"regression\",  # Since we're predicting continuous RSI values\n",
    "    feature_names=[\"RSI\"],\n",
    "    verbose=True,\n",
    "    random_state=42\n",
    ")\n",
    "\n",
    "# Choose an instance from the test set that you want to explain\n",
    "# For example, explaining the last data point\n",
    "data_row = X_test[-1]\n",
    "\n",
    "# Explain the instance using LIME\n",
    "explanation = explainer.explain_instance(\n",
    "    data_row=data_row,  # Changed 'instance' to 'data_row'\n",
    "    predict_fn=arima_predict,  # Our custom ARIMA prediction function\n",
    "    num_features=1  # The number of features to include in the explanation\n",
    ")\n",
    "\n",
    "# Display the explanation\n",
    "explanation.show_in_notebook(show_table=True, show_all=False)\n",
    "\n",
    "# Optionally, plot the explanation\n",
    "explanation.as_pyplot_figure()\n",
    "plt.show()"
   ]
  }
 ],
 "metadata": {
  "kernelspec": {
   "display_name": "Python 3 (ipykernel)",
   "language": "python",
   "name": "python3"
  },
  "language_info": {
   "codemirror_mode": {
    "name": "ipython",
    "version": 3
   },
   "file_extension": ".py",
   "mimetype": "text/x-python",
   "name": "python",
   "nbconvert_exporter": "python",
   "pygments_lexer": "ipython3",
   "version": "3.11.4"
  }
 },
 "nbformat": 4,
 "nbformat_minor": 5
}
